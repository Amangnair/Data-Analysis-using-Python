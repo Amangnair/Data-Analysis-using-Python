{
  "nbformat": 4,
  "nbformat_minor": 0,
  "metadata": {
    "colab": {
      "name": "A1_demo.ipynb",
      "provenance": [],
      "collapsed_sections": []
    },
    "kernelspec": {
      "name": "python3",
      "display_name": "Python 3"
    },
    "language_info": {
      "name": "python"
    }
  },
  "cells": [
    {
      "cell_type": "code",
      "metadata": {
        "id": "oEe7qmw2G_Br",
        "colab": {
          "base_uri": "https://localhost:8080/"
        },
        "outputId": "40a0ddf5-5c47-49fa-c0be-e121fb3a4e57"
      },
      "source": [
        "print(\"Hello World\")"
      ],
      "execution_count": null,
      "outputs": [
        {
          "output_type": "stream",
          "text": [
            "Hello World\n"
          ],
          "name": "stdout"
        }
      ]
    },
    {
      "cell_type": "markdown",
      "metadata": {
        "id": "9oQ86i33IPsG"
      },
      "source": [
        "Code 1 is performing basic operations on python\n"
      ]
    },
    {
      "cell_type": "code",
      "metadata": {
        "id": "CMvyOXCGHsjG"
      },
      "source": [
        "if cond{\n",
        "    stmt1\n",
        "      stmt2\n",
        "    stmt3\n",
        "}"
      ],
      "execution_count": null,
      "outputs": []
    },
    {
      "cell_type": "code",
      "metadata": {
        "id": "k0ctHYvyH_sw"
      },
      "source": [
        "if cond:\n",
        "  stmt1\n",
        "  stmt2\n",
        "else:\n",
        "  stmt3\n",
        "  stmt4  \n"
      ],
      "execution_count": null,
      "outputs": []
    },
    {
      "cell_type": "code",
      "metadata": {
        "colab": {
          "base_uri": "https://localhost:8080/"
        },
        "id": "CpyIn9tLIC2e",
        "outputId": "77168c44-b96b-4bcf-e9c5-d72a45926f2e"
      },
      "source": [
        "if True:\n",
        "  print(\"True\")\n",
        "  print(\"True again\")\n",
        "else:\n",
        "  print(\"False\")\n",
        "print(\"Hello all\")  "
      ],
      "execution_count": null,
      "outputs": [
        {
          "output_type": "stream",
          "text": [
            "True\n",
            "True again\n",
            "Hello all\n"
          ],
          "name": "stdout"
        }
      ]
    },
    {
      "cell_type": "code",
      "metadata": {
        "colab": {
          "base_uri": "https://localhost:8080/"
        },
        "id": "CqV6J1c0LMm-",
        "outputId": "7e5c3335-10de-4e50-ea20-a110c3933c60"
      },
      "source": [
        "n=7\n",
        "print(n)"
      ],
      "execution_count": null,
      "outputs": [
        {
          "output_type": "stream",
          "text": [
            "7\n"
          ],
          "name": "stdout"
        }
      ]
    },
    {
      "cell_type": "code",
      "metadata": {
        "colab": {
          "base_uri": "https://localhost:8080/"
        },
        "id": "xbmvFkM1L98w",
        "outputId": "0295ad40-3abd-4532-a272-4ce5b1738843"
      },
      "source": [
        "print(n)\n",
        "n=9.36\n",
        "print(n)\n",
        "n=\"hi\"\n",
        "print(n)"
      ],
      "execution_count": null,
      "outputs": [
        {
          "output_type": "stream",
          "text": [
            "9.36\n",
            "9.36\n",
            "hi\n"
          ],
          "name": "stdout"
        }
      ]
    },
    {
      "cell_type": "code",
      "metadata": {
        "colab": {
          "base_uri": "https://localhost:8080/"
        },
        "id": "5VWmxqsCNEpe",
        "outputId": "95b42ca1-6efb-4c90-e6b7-8137bb0eac52"
      },
      "source": [
        "a=b=c=12\n",
        "print(a, b, c)"
      ],
      "execution_count": null,
      "outputs": [
        {
          "output_type": "stream",
          "text": [
            "12 12 12\n"
          ],
          "name": "stdout"
        }
      ]
    },
    {
      "cell_type": "code",
      "metadata": {
        "colab": {
          "base_uri": "https://localhost:8080/"
        },
        "id": "i39r6FPLODaA",
        "outputId": "3f4a7da9-e963-4f81-c162-a468285c0548"
      },
      "source": [
        "a,b,c=1,2.45,\"hello\"\n",
        "print(a,b,c)"
      ],
      "execution_count": null,
      "outputs": [
        {
          "output_type": "stream",
          "text": [
            "1 2.45 hello\n"
          ],
          "name": "stdout"
        }
      ]
    },
    {
      "cell_type": "code",
      "metadata": {
        "colab": {
          "base_uri": "https://localhost:8080/"
        },
        "id": "kNXIEGDkO8X_",
        "outputId": "32d16db8-14d9-4dd2-dc9a-c4de8e766024"
      },
      "source": [
        "#' '  \" \"  ''' '''  \"\"\"  \"\"\"\n",
        "str1,str2,str3,str4=\"hello\",'hai','''hi''',\"\"\"namaste\"\"\"\n",
        "print(str1,str2,str3,str4)"
      ],
      "execution_count": null,
      "outputs": [
        {
          "output_type": "stream",
          "text": [
            "hello hai hi namaste\n"
          ],
          "name": "stdout"
        }
      ]
    },
    {
      "cell_type": "code",
      "metadata": {
        "colab": {
          "base_uri": "https://localhost:8080/"
        },
        "id": "iVRn0vEqdK_B",
        "outputId": "cb98e203-b229-4cf2-862e-8a0945f981b6"
      },
      "source": [
        "def area_of_circle(r):\n",
        "    PI = 3.14\n",
        "    return PI * (r*r);\n",
        "\n",
        "r = float(input(\"Enter the radius of the circle: \"))\n",
        "print(\"%.2f\" %area_of_circle(r))"
      ],
      "execution_count": null,
      "outputs": [
        {
          "output_type": "stream",
          "text": [
            "Enter the radius of the circle: 3.14\n",
            "30.96\n"
          ],
          "name": "stdout"
        }
      ]
    },
    {
      "cell_type": "code",
      "metadata": {
        "colab": {
          "base_uri": "https://localhost:8080/"
        },
        "id": "EmL007roglyY",
        "outputId": "9085916f-9c31-4445-d746-f2afaf30f6cd"
      },
      "source": [
        "import math\n",
        "print(math.pi)\n",
        "area=math*r*r&math.pi"
      ],
      "execution_count": null,
      "outputs": [
        {
          "output_type": "stream",
          "text": [
            "3.141592653589793\n"
          ],
          "name": "stdout"
        }
      ]
    },
    {
      "cell_type": "code",
      "metadata": {
        "colab": {
          "base_uri": "https://localhost:8080/"
        },
        "id": "XOzgvzVFg6SQ",
        "outputId": "f2910eea-653d-45e7-c3bd-b9b0719cd32f"
      },
      "source": [
        "print(math.sqrt(22))"
      ],
      "execution_count": null,
      "outputs": [
        {
          "output_type": "stream",
          "text": [
            "4.69041575982343\n"
          ],
          "name": "stdout"
        }
      ]
    },
    {
      "cell_type": "code",
      "metadata": {
        "colab": {
          "base_uri": "https://localhost:8080/"
        },
        "id": "jHVgB3N0jRP2",
        "outputId": "fc060ddd-6a9a-451c-c933-3f8232fa94d8"
      },
      "source": [
        "#LISTS\n",
        "marks=[21,42,34,23,56,60]\n",
        "print(marks)\n",
        "print(type(marks))"
      ],
      "execution_count": null,
      "outputs": [
        {
          "output_type": "stream",
          "text": [
            "[21, 42, 34, 23, 56, 60]\n",
            "<class 'list'>\n"
          ],
          "name": "stdout"
        }
      ]
    },
    {
      "cell_type": "code",
      "metadata": {
        "colab": {
          "base_uri": "https://localhost:8080/"
        },
        "id": "pQGzbxNqkTf9",
        "outputId": "63c3539d-0213-4ef6-a93d-b4e2152f1f10"
      },
      "source": [
        "len(marks)"
      ],
      "execution_count": null,
      "outputs": [
        {
          "output_type": "execute_result",
          "data": {
            "text/plain": [
              "6"
            ]
          },
          "metadata": {
            "tags": []
          },
          "execution_count": 11
        }
      ]
    },
    {
      "cell_type": "code",
      "metadata": {
        "colab": {
          "base_uri": "https://localhost:8080/"
        },
        "id": "5pC5pn_UkWpW",
        "outputId": "e4d2701a-80c5-4df2-b2ff-4d3885306df4"
      },
      "source": [
        "marks[2]=20\n",
        "print(marks)"
      ],
      "execution_count": null,
      "outputs": [
        {
          "output_type": "stream",
          "text": [
            "[21, 42, 20, 23, 56, 60]\n"
          ],
          "name": "stdout"
        }
      ]
    },
    {
      "cell_type": "code",
      "metadata": {
        "colab": {
          "base_uri": "https://localhost:8080/"
        },
        "id": "Ut0Q0t43khjj",
        "outputId": "d99192c8-392c-43f2-eddd-5b9e468bb2a1"
      },
      "source": [
        "marks.append(\"red\")\n",
        "print(marks)"
      ],
      "execution_count": null,
      "outputs": [
        {
          "output_type": "stream",
          "text": [
            "[21, 42, 20, 23, 56, 60, 'red']\n"
          ],
          "name": "stdout"
        }
      ]
    },
    {
      "cell_type": "code",
      "metadata": {
        "colab": {
          "base_uri": "https://localhost:8080/"
        },
        "id": "E9H-mapfknuQ",
        "outputId": "b2d636fd-5fcd-429a-f9ed-1dfa79709be3"
      },
      "source": [
        "len(marks)"
      ],
      "execution_count": null,
      "outputs": [
        {
          "output_type": "execute_result",
          "data": {
            "text/plain": [
              "7"
            ]
          },
          "metadata": {
            "tags": []
          },
          "execution_count": 14
        }
      ]
    },
    {
      "cell_type": "code",
      "metadata": {
        "colab": {
          "base_uri": "https://localhost:8080/"
        },
        "id": "mNKmUuPXlios",
        "outputId": "ec4bc0a4-f5a1-4fa6-f198-8c769c15576b"
      },
      "source": [
        "marks.pop()\n",
        "print(marks)"
      ],
      "execution_count": null,
      "outputs": [
        {
          "output_type": "stream",
          "text": [
            "[21, 42, 20, 23, 56, 60]\n"
          ],
          "name": "stdout"
        }
      ]
    },
    {
      "cell_type": "code",
      "metadata": {
        "colab": {
          "base_uri": "https://localhost:8080/"
        },
        "id": "ws8uV2Ncl6s2",
        "outputId": "a04f1b03-99da-4165-d6cc-91a4f1f0cbe3"
      },
      "source": [
        "marks.pop(3)\n",
        "print(marks)"
      ],
      "execution_count": null,
      "outputs": [
        {
          "output_type": "stream",
          "text": [
            "[21, 42, 20, 56, 60]\n"
          ],
          "name": "stdout"
        }
      ]
    }
  ]
}