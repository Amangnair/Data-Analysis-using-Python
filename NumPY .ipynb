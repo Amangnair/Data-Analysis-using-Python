{
 "cells": [
  {
   "cell_type": "code",
   "execution_count": 4,
   "id": "30936062",
   "metadata": {},
   "outputs": [
    {
     "name": "stdout",
     "output_type": "stream",
     "text": [
      "[1 2 3]\n"
     ]
    }
   ],
   "source": [
    "import numpy as np \n",
    "npa= np.array([1, 2, 3])\n",
    "print(npa)"
   ]
  },
  {
   "cell_type": "code",
   "execution_count": 5,
   "id": "8790071e",
   "metadata": {},
   "outputs": [
    {
     "name": "stdout",
     "output_type": "stream",
     "text": [
      "[[ 1  2  3  4]\n",
      " [ 5  6  7  8]\n",
      " [ 9 10 11 12]]\n"
     ]
    }
   ],
   "source": [
    "import numpy as npp\n",
    "a = npp.array([[1 , 2, 3, 4], [5, 6, 7, 8], [9, 10, 11, 12]])\n",
    "print(a)"
   ]
  },
  {
   "cell_type": "code",
   "execution_count": 10,
   "id": "9134a8a4",
   "metadata": {},
   "outputs": [
    {
     "name": "stdout",
     "output_type": "stream",
     "text": [
      "[0. 0. 0.]\n"
     ]
    }
   ],
   "source": [
    "import numpy as np\n",
    "x=np.zeros(3)\n",
    "print(x)"
   ]
  },
  {
   "cell_type": "code",
   "execution_count": 12,
   "id": "01048376",
   "metadata": {},
   "outputs": [
    {
     "name": "stdout",
     "output_type": "stream",
     "text": [
      "[1. 1. 1.]\n"
     ]
    }
   ],
   "source": [
    "import numpy as np\n",
    "x=np.ones(3)\n",
    "print(x)"
   ]
  },
  {
   "cell_type": "code",
   "execution_count": 14,
   "id": "972301d9",
   "metadata": {},
   "outputs": [
    {
     "name": "stdout",
     "output_type": "stream",
     "text": [
      "[1. 1. 1.]\n"
     ]
    }
   ],
   "source": [
    "import numpy as np\n",
    "ab=np.empty(3)\n",
    "print(ab)"
   ]
  },
  {
   "cell_type": "code",
   "execution_count": 15,
   "id": "243e494f",
   "metadata": {},
   "outputs": [
    {
     "name": "stdout",
     "output_type": "stream",
     "text": [
      "[0 1 2 3 4 5 6 7 8 9]\n"
     ]
    }
   ],
   "source": [
    "import numpy as np\n",
    "n=np.arange(10)\n",
    "print(n)"
   ]
  },
  {
   "cell_type": "code",
   "execution_count": 17,
   "id": "62965536",
   "metadata": {},
   "outputs": [
    {
     "name": "stdout",
     "output_type": "stream",
     "text": [
      "[ 1  5  9 13 17]\n"
     ]
    }
   ],
   "source": [
    "import numpy as np\n",
    "a=np.arange(1,20,4)\n",
    "print(a)"
   ]
  },
  {
   "cell_type": "code",
   "execution_count": 20,
   "id": "5f7b4fb1",
   "metadata": {},
   "outputs": [
    {
     "name": "stdout",
     "output_type": "stream",
     "text": [
      "[1 1 1 1]\n"
     ]
    },
    {
     "data": {
      "text/plain": [
       "array([1, 1, 1, 1])"
      ]
     },
     "execution_count": 20,
     "metadata": {},
     "output_type": "execute_result"
    }
   ],
   "source": [
    "x = np.ones(4, dtype=int)\n",
    "print(x)\n",
    "x"
   ]
  },
  {
   "cell_type": "code",
   "execution_count": 25,
   "id": "2cac8aae",
   "metadata": {},
   "outputs": [
    {
     "name": "stdout",
     "output_type": "stream",
     "text": [
      "[16 21 43  4 35 61 17 28 91 10]\n",
      "[16 21 43  4 61 17 28 91 10]\n",
      "[ 4 10 16 17 21 28 43 61 91]\n"
     ]
    }
   ],
   "source": [
    "ar = np.array([16, 21, 43, 4, 35, 61, 17, 28, 91, 10])\n",
    "print(ar)\n",
    "ar=np.delete(ar, 4)\n",
    "print(ar)\n",
    "ar=np.sort(ar)\n",
    "print(ar)"
   ]
  },
  {
   "cell_type": "code",
   "execution_count": 26,
   "id": "5854df10",
   "metadata": {},
   "outputs": [
    {
     "name": "stdout",
     "output_type": "stream",
     "text": [
      "1\n",
      "dimension=  0\n",
      "[10 20 30 40 50]\n",
      "dimension=  1\n",
      "[[11 22 33]\n",
      " [44 55 66]]\n",
      "dimension=  2\n",
      "[[[1 2 3]\n",
      "  [4 5 6]]\n",
      "\n",
      " [[1 2 3]\n",
      "  [4 5 6]]]\n",
      "dimension=  3\n"
     ]
    }
   ],
   "source": [
    "import numpy as np\n",
    "\n",
    "a = np.array(1)\n",
    "b = np.array([10, 20, 30, 40, 50])\n",
    "c = np.array([[11, 22, 33], [44, 55, 66]])\n",
    "d = np.array([[[1, 2, 3], [4, 5, 6]], [[1, 2, 3], [4, 5, 6]]])\n",
    "\n",
    "print(a)\n",
    "print(\"dimension= \", a.ndim)\n",
    "print(b)\n",
    "print(\"dimension= \", b.ndim)\n",
    "print(c)\n",
    "print(\"dimension= \", c.ndim)\n",
    "print(d)\n",
    "print(\"dimension= \", d.ndim)\n"
   ]
  },
  {
   "cell_type": "code",
   "execution_count": 27,
   "id": "6eeaa7eb",
   "metadata": {},
   "outputs": [
    {
     "name": "stdout",
     "output_type": "stream",
     "text": [
      "(3, 4)\n"
     ]
    }
   ],
   "source": [
    "import numpy as np\n",
    "\n",
    "arr = np.array([[1, 2, 3, 4], [5, 6, 7, 8], [1, 2, 3, 4]])\n",
    "\n",
    "print(arr.shape) "
   ]
  },
  {
   "cell_type": "code",
   "execution_count": 30,
   "id": "796efe56",
   "metadata": {},
   "outputs": [
    {
     "name": "stdout",
     "output_type": "stream",
     "text": [
      "[0 1 2 3 4 5 6 7 8]\n",
      "[[0 1 2]\n",
      " [3 4 5]\n",
      " [6 7 8]]\n"
     ]
    }
   ],
   "source": [
    "a = np.arange(9)\n",
    "print(a)\n",
    "\n",
    "b = a.reshape(3,3)\n",
    "print(b)"
   ]
  },
  {
   "cell_type": "code",
   "execution_count": 31,
   "id": "708f2d61",
   "metadata": {},
   "outputs": [
    {
     "name": "stdout",
     "output_type": "stream",
     "text": [
      "Print A=  50\n",
      "Print B=  [10 20 30]\n",
      "After Addition = [60 70 80]\n",
      "After Subtraction = [-40 -30 -20]\n",
      "After Multiplcation = [ 500 1000 1500]\n",
      "After Division = [0.2 0.4 0.6]\n",
      "After Division = [1. 2. 3.]\n"
     ]
    }
   ],
   "source": [
    "import numpy as np\n",
    "\n",
    "a=np.array(50)\n",
    "b=np.array([10,20,30])\n",
    "\n",
    "add= np.add(a,b)\n",
    "sub=np.subtract(b,a)\n",
    "mul=np.multiply (a,b)\n",
    "div=np.divide (b,a)\n",
    "div1=np.divide (b,10)\n",
    "\n",
    "print(\"Print A= \",a)\n",
    "print(\"Print B= \", b)\n",
    "print(\"After Addition =\", add)\n",
    "print(\"After Subtraction =\",sub)\n",
    "print(\"After Multiplcation =\",mul)\n",
    "print(\"After Division =\",div)\n",
    "print(\"After Division =\",div1)"
   ]
  },
  {
   "cell_type": "code",
   "execution_count": 33,
   "id": "3e2ef8f2",
   "metadata": {},
   "outputs": [
    {
     "name": "stdout",
     "output_type": "stream",
     "text": [
      "[0.25 0.5  0.75 1.   1.25]\n",
      "[4.         2.         1.33333333 1.         0.8       ]\n"
     ]
    }
   ],
   "source": [
    "n= np.array([0.25,0.50,0.75,1.0,1.25])\n",
    "print(n)\n",
    "\n",
    "rec=np.reciprocal(n) \n",
    "print(rec)"
   ]
  },
  {
   "cell_type": "code",
   "execution_count": 36,
   "id": "4217305b",
   "metadata": {},
   "outputs": [
    {
     "name": "stdout",
     "output_type": "stream",
     "text": [
      "[ 5 10 15]\n",
      "after ^4 =  [  625 10000 50625]\n",
      "after b array elements as ^ =  [125 100  15]\n"
     ]
    }
   ],
   "source": [
    "a=np.array([5,10,15])\n",
    "\n",
    "print(a)\n",
    "\n",
    "pow=np.power(a,4)\n",
    "print(\"after ^4 = \", pow)\n",
    "\n",
    "\n",
    "b=np.array([3,2,1])\n",
    "\n",
    "pow1=np.power(a,b)\n",
    "print(\"after b array elements as ^ = \", pow1)"
   ]
  },
  {
   "cell_type": "code",
   "execution_count": 37,
   "id": "8afa627f",
   "metadata": {},
   "outputs": [
    {
     "name": "stdout",
     "output_type": "stream",
     "text": [
      "values of A= [1 3 5]\n",
      "values of B= [2 4 6]\n",
      "values of MOD= [1 3 5]\n",
      "values of REMAINDER= [1 3 5]\n"
     ]
    }
   ],
   "source": [
    "a= np.array ([1,3,5])\n",
    "b= np.array ([2,4,6])\n",
    "\n",
    "print(\"values of A=\", a)\n",
    "print(\"values of B=\", b)\n",
    "\n",
    "mm=np.mod(a,b)\n",
    "rm=np.remainder(a,b)\n",
    "\n",
    "print(\"values of MOD=\", mm)\n",
    "print(\"values of REMAINDER=\", rm)"
   ]
  },
  {
   "cell_type": "code",
   "execution_count": 38,
   "id": "3403f419",
   "metadata": {},
   "outputs": [
    {
     "name": "stdout",
     "output_type": "stream",
     "text": [
      "[-0.-5.6j  0.+0.2j 11.+0.j   1.+1.j ]\n",
      "real= [-0.  0. 11.  1.]\n",
      "imaginary= [-5.6  0.2  0.   1. ]\n",
      "Conjugate= [-0.+5.6j  0.-0.2j 11.-0.j   1.-1.j ]\n"
     ]
    }
   ],
   "source": [
    "a=np.array([-5.6j, 0.2j,11, 1+1j])\n",
    "print(a)\n",
    "\n",
    "print(\"real=\",np.real(a))\n",
    "decimal \n",
    "print(\"imaginary=\",np.imag(a))\n",
    "\n",
    "print(\"Conjugate=\", np.conj(a))"
   ]
  },
  {
   "cell_type": "code",
   "execution_count": 41,
   "id": "9f227d77",
   "metadata": {},
   "outputs": [
    {
     "name": "stdout",
     "output_type": "stream",
     "text": [
      "[  1.0562    5.32345 123.9823    0.5645   25.52223  32.9952 ]\n",
      "after rounding up= [  1.   5. 124.   1.  26.  33.]\n",
      "after rounding up to 3rd decimal value = [  1.056   5.323 123.982   0.564  25.522  32.995]\n"
     ]
    }
   ],
   "source": [
    "a=np.array ([1.0562,5.32345,123.9823,0.5645,25.52223,32.9952])\n",
    "\n",
    "print(a)\n",
    "\n",
    "print(\"after rounding up=\", np.around(a))\n",
    "\n",
    "print(\"after rounding up to 3rd decimal value =\", np.around(a,decimals=3))"
   ]
  },
  {
   "cell_type": "code",
   "execution_count": 43,
   "id": "f1370c0d",
   "metadata": {},
   "outputs": [
    {
     "name": "stdout",
     "output_type": "stream",
     "text": [
      "[  1.    -5.3  123.    -0.56  25.5   32.  ]\n",
      "\n",
      "\n",
      "[  1.  -5. 123.  -1.  26.  32.]\n",
      "[  1.  -6. 123.  -1.  25.  32.]\n",
      "[  1.  -5. 123.  -0.  26.  32.]\n"
     ]
    }
   ],
   "source": [
    "a=np.array ([1.0,-5.3,123,-0.56,25.5,32])\n",
    "\n",
    "print(a)\n",
    "\n",
    "print('\\n')\n",
    "print(np.around(a))\n",
    "\n",
    "print(np.floor(a))\n",
    "\n",
    "print(np.ceil(a))"
   ]
  },
  {
   "cell_type": "code",
   "execution_count": null,
   "id": "fde322c9",
   "metadata": {},
   "outputs": [],
   "source": []
  }
 ],
 "metadata": {
  "kernelspec": {
   "display_name": "Python 3",
   "language": "python",
   "name": "python3"
  },
  "language_info": {
   "codemirror_mode": {
    "name": "ipython",
    "version": 3
   },
   "file_extension": ".py",
   "mimetype": "text/x-python",
   "name": "python",
   "nbconvert_exporter": "python",
   "pygments_lexer": "ipython3",
   "version": "3.8.8"
  }
 },
 "nbformat": 4,
 "nbformat_minor": 5
}
