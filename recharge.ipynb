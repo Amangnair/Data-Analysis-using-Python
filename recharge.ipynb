{
 "cells": [
  {
   "cell_type": "code",
   "execution_count": 1,
   "id": "570e4f2c",
   "metadata": {},
   "outputs": [
    {
     "name": "stdout",
     "output_type": "stream",
     "text": [
      "**Python program to Recharge**\n",
      "Enter 1 for Prepaid and 2 for postpaid\n",
      "1\n",
      "Enter your 10 digit mobile number\n",
      "9853621298\n",
      "Enter your choice\n",
      "1 for Airtel\n",
      "2 for Jio\n",
      "\n",
      "1\n",
      "Enter 1 for Unlimited Plans and 2 for Data packs\n",
      "1\n",
      "\n",
      "1. Rs.399 for 54 days(Unlimited Voice calls,1.5GB\\day,100 SMS\\day\n",
      "2. Rs.599 for 84 days(Unlimited Voice calls,2GB\\day,100 SMS\\day)\n",
      "2\n",
      "**RECHARGE SUCCESSFULL**\n"
     ]
    }
   ],
   "source": [
    "#Recharge\n",
    "print(\"**Python program to Recharge**\")\n",
    "def prepaid():\n",
    "    print(\"Enter your 10 digit mobile number\")\n",
    "    num=int(input())\n",
    "    print(\"Enter your choice\\n1 for Airtel\\n2 for Jio\\n\")\n",
    "    op=int(input())\n",
    "    if(op==1):\n",
    "        airtel()\n",
    "    elif(op==2):\n",
    "        jio()\n",
    "    else:\n",
    "        print(\"INVALID INPUT\")\n",
    "def postpaid():\n",
    "    print(\"Enter your choice\\n1 for Airtel\\n2 for Jio\\n\")\n",
    "    po=int(input())\n",
    "    \n",
    "def airtel():\n",
    "    print(\"Enter 1 for Unlimited Plans and 2 for Data packs\")\n",
    "    ai=int(input())\n",
    "    if(ai==1):\n",
    "        print(\"\\n1. Rs.399 for 54 days(Unlimited Voice calls,1.5GB\\day,100 SMS\\day\\n2. Rs.599 for 84 days(Unlimited Voice calls,2GB\\day,100 SMS\\day)\")\n",
    "    elif(ai==2):\n",
    "        print(\"\\n1. Rs 15 for 1 day(2GB)\\n2. Rs 49 for 4 days(6GB)\")\n",
    "    air=int(input())\n",
    "    print(\"**RECHARGE SUCCESSFULL**\")\n",
    "\n",
    "def jio():\n",
    "    print(\"Enter 1 for Unlimited Plans and 2 for Data packs\")\n",
    "    ji=int(input())\n",
    "    if(ji==1):\n",
    "        print(\"\\n1. Rs.399 for 54 days(Unlimited Voice calls,1.5GB\\day,100 SMS\\day\\n2. Rs.599 for 84 days(Unlimited Voice calls,2GB\\day,100 SMS\\day)\")\n",
    "    elif(ji==2):\n",
    "        print(\"\\n1. Rs 15 for 1 day(2GB)\\n2. Rs 49 for 4 days(6GB)\")\n",
    "    jio=int(input())\n",
    "    print(\"**RECHARGE SUCCESSFULL**\")\n",
    "\n",
    "print(\"Enter 1 for Prepaid and 2 for postpaid\")\n",
    "se=int(input())\n",
    "if(se==1):\n",
    "    prepaid()\n",
    "elif(se==2):\n",
    "    postpaid()\n",
    "else:\n",
    "    print(\"INVALID INPUT\")"
   ]
  },
  {
   "cell_type": "code",
   "execution_count": null,
   "id": "7a1f3b10",
   "metadata": {},
   "outputs": [],
   "source": []
  }
 ],
 "metadata": {
  "kernelspec": {
   "display_name": "Python 3",
   "language": "python",
   "name": "python3"
  },
  "language_info": {
   "codemirror_mode": {
    "name": "ipython",
    "version": 3
   },
   "file_extension": ".py",
   "mimetype": "text/x-python",
   "name": "python",
   "nbconvert_exporter": "python",
   "pygments_lexer": "ipython3",
   "version": "3.8.8"
  }
 },
 "nbformat": 4,
 "nbformat_minor": 5
}
