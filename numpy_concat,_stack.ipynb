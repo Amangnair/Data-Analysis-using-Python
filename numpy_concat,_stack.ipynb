{
  "nbformat": 4,
  "nbformat_minor": 5,
  "metadata": {
    "kernelspec": {
      "display_name": "Python 3",
      "language": "python",
      "name": "python3"
    },
    "language_info": {
      "codemirror_mode": {
        "name": "ipython",
        "version": 3
      },
      "file_extension": ".py",
      "mimetype": "text/x-python",
      "name": "python",
      "nbconvert_exporter": "python",
      "pygments_lexer": "ipython3",
      "version": "3.8.8"
    },
    "colab": {
      "name": "numpy concat, stack.ipynb",
      "provenance": []
    }
  },
  "cells": [
    {
      "cell_type": "code",
      "metadata": {
        "id": "05a59e93",
        "outputId": "26d2b2f6-73c8-4c2b-93b3-8acd5307a627"
      },
      "source": [
        "import numpy as np\n",
        "\n",
        "arr1 = np.array([1, 2, 3])\n",
        "\n",
        "arr2 = np.array([4, 5, 6])\n",
        "\n",
        "arr = np.concatenate((arr1, arr2))\n",
        "\n",
        "print(arr) "
      ],
      "id": "05a59e93",
      "execution_count": null,
      "outputs": [
        {
          "name": "stdout",
          "output_type": "stream",
          "text": [
            "[1 2 3 4 5 6]\n"
          ]
        }
      ]
    },
    {
      "cell_type": "code",
      "metadata": {
        "id": "59617e1e",
        "outputId": "c995d67b-a548-478f-fe9e-7f5be0557b77"
      },
      "source": [
        "import numpy as np\n",
        "\n",
        "arr1 = np.array([[1, 2], [3, 4]])\n",
        "\n",
        "print(\"arr1=\", arr1) \n",
        "\n",
        "arr2 = np.array([[5, 6], [7, 8]])\n",
        "\n",
        "print(\"arr2=\", arr2) \n",
        "\n",
        "print(\"after concatenation =\")\n",
        "\n",
        "arr = np.concatenate((arr1, arr2), axis=1) #0=row, 1=col\n",
        "\n",
        "print(arr) "
      ],
      "id": "59617e1e",
      "execution_count": null,
      "outputs": [
        {
          "name": "stdout",
          "output_type": "stream",
          "text": [
            "arr1= [[1 2]\n",
            " [3 4]]\n",
            "arr2= [[5 6]\n",
            " [7 8]]\n",
            "after concatenation =\n",
            "[[1 2 5 6]\n",
            " [3 4 7 8]]\n"
          ]
        }
      ]
    },
    {
      "cell_type": "code",
      "metadata": {
        "id": "253e2b79",
        "outputId": "6d000288-8a50-49f8-fcc4-84e71a7b5e95"
      },
      "source": [
        "import numpy as np\n",
        "\n",
        "arr1 = np.array([[1, 2], [3, 4]])\n",
        "\n",
        "print(\"arr1=\", arr1) \n",
        "\n",
        "arr2 = np.array([[5, 6], [7, 8]])\n",
        "\n",
        "print(\"arr2=\", arr2) \n",
        "\n",
        "print(\"after concatenation =\")\n",
        "arr = np.concatenate((arr1, arr2), axis=0) #0=row, 1=col\n",
        "\n",
        "print(arr) "
      ],
      "id": "253e2b79",
      "execution_count": null,
      "outputs": [
        {
          "name": "stdout",
          "output_type": "stream",
          "text": [
            "arr1= [[1 2]\n",
            " [3 4]]\n",
            "arr2= [[5 6]\n",
            " [7 8]]\n",
            "after concatenation =\n",
            "[[1 2]\n",
            " [3 4]\n",
            " [5 6]\n",
            " [7 8]]\n"
          ]
        }
      ]
    },
    {
      "cell_type": "code",
      "metadata": {
        "id": "c774320c",
        "outputId": "a0def26c-2b03-4cd5-a065-e1c6bdaf1a08"
      },
      "source": [
        "import numpy as np\n",
        "\n",
        "arr1 = np.array([1, 2, 3])\n",
        "\n",
        "arr2 = np.array([4, 5, 6])\n",
        "\n",
        "arr = np.hstack((arr1, arr2))\n",
        "\n",
        "print(arr) "
      ],
      "id": "c774320c",
      "execution_count": null,
      "outputs": [
        {
          "name": "stdout",
          "output_type": "stream",
          "text": [
            "[1 2 3 4 5 6]\n"
          ]
        }
      ]
    },
    {
      "cell_type": "code",
      "metadata": {
        "id": "57677231",
        "outputId": "ad9396c3-005f-464e-a6a8-b5d7de511041"
      },
      "source": [
        "import numpy as np\n",
        "\n",
        "arr1 = np.array([1, 2, 3])\n",
        "\n",
        "arr2 = np.array([4, 5, 6])\n",
        "\n",
        "arr = np.vstack((arr1, arr2))\n",
        "\n",
        "print(arr) "
      ],
      "id": "57677231",
      "execution_count": null,
      "outputs": [
        {
          "name": "stdout",
          "output_type": "stream",
          "text": [
            "[[1 2 3]\n",
            " [4 5 6]]\n"
          ]
        }
      ]
    },
    {
      "cell_type": "code",
      "metadata": {
        "id": "b5d1d082",
        "outputId": "8821bd4c-cd10-4507-8329-efaf17feb853"
      },
      "source": [
        "a = np.array([1,2,3])\n",
        "\n",
        "b = np.array([4,5,6])\n",
        "\n",
        "print(\"hstack =\", np.hstack((a,b)))\n",
        "\n",
        "print(\"vstack =\", np.vstack((a,b)))\n",
        "\n",
        "a = np.array([[1],[2],[3]])\n",
        "\n",
        "b = np.array([[4],[5],[6]])\n",
        "\n",
        "print(\"hstack =\", np.hstack((a,b)))\n",
        "\n",
        "print(\"vstack =\", np.vstack((a,b)))\n"
      ],
      "id": "b5d1d082",
      "execution_count": null,
      "outputs": [
        {
          "name": "stdout",
          "output_type": "stream",
          "text": [
            "hstack = [1 2 3 4 5 6]\n",
            "vstack = [[1 2 3]\n",
            " [4 5 6]]\n",
            "hstack = [[1 4]\n",
            " [2 5]\n",
            " [3 6]]\n",
            "vstack = [[1]\n",
            " [2]\n",
            " [3]\n",
            " [4]\n",
            " [5]\n",
            " [6]]\n"
          ]
        }
      ]
    },
    {
      "cell_type": "code",
      "metadata": {
        "id": "36aba148",
        "outputId": "2289f266-debb-497b-c1ab-5bbf3f2e12d9"
      },
      "source": [
        "a = np.array([[1,2,3],[11,22,33],[111,222,333],[1111,2222,3333]])\n",
        "\n",
        "b = np.array([[7,8,9],[77,88,99],[777,888,999],[7777,8888,9999]])\n",
        "\n",
        "print(\"\\nhstack =\\n\", np.hstack((a,b)))\n",
        "\n",
        "print(\"\\n======next print======\")\n",
        "\n",
        "print(\"\\nvstack =\\n\", np.vstack((a,b)))\n",
        "\n",
        "arr = np.concatenate((a, b), axis=0)\n",
        "\n",
        "print(\"\\n======next print======\")\n",
        "\n",
        "print(\"\\n concatenate at axis 0=\\n\",arr)\n",
        "\n",
        "arr1 = np.concatenate((a, b), axis=1)\n",
        "\n",
        "print(\"\\n======next print======\")\n",
        "\n",
        "print(\"\\n concatenate at axis 1=\\n\",arr1)"
      ],
      "id": "36aba148",
      "execution_count": null,
      "outputs": [
        {
          "name": "stdout",
          "output_type": "stream",
          "text": [
            "\n",
            "hstack =\n",
            " [[   1    2    3    7    8    9]\n",
            " [  11   22   33   77   88   99]\n",
            " [ 111  222  333  777  888  999]\n",
            " [1111 2222 3333 7777 8888 9999]]\n",
            "\n",
            "======next print======\n",
            "\n",
            "vstack =\n",
            " [[   1    2    3]\n",
            " [  11   22   33]\n",
            " [ 111  222  333]\n",
            " [1111 2222 3333]\n",
            " [   7    8    9]\n",
            " [  77   88   99]\n",
            " [ 777  888  999]\n",
            " [7777 8888 9999]]\n",
            "\n",
            "======next print======\n",
            "\n",
            " concatenate at axis 0=\n",
            " [[   1    2    3]\n",
            " [  11   22   33]\n",
            " [ 111  222  333]\n",
            " [1111 2222 3333]\n",
            " [   7    8    9]\n",
            " [  77   88   99]\n",
            " [ 777  888  999]\n",
            " [7777 8888 9999]]\n",
            "\n",
            "======next print======\n",
            "\n",
            " concatenate at axis 1=\n",
            " [[   1    2    3    7    8    9]\n",
            " [  11   22   33   77   88   99]\n",
            " [ 111  222  333  777  888  999]\n",
            " [1111 2222 3333 7777 8888 9999]]\n"
          ]
        }
      ]
    },
    {
      "cell_type": "code",
      "metadata": {
        "id": "193038d9",
        "outputId": "f576b2c7-7340-427e-8446-84d1031cccdd"
      },
      "source": [
        "a= np.array([[1, 2, 3], [4, 5, 6]])\n",
        "print(a)"
      ],
      "id": "193038d9",
      "execution_count": null,
      "outputs": [
        {
          "name": "stdout",
          "output_type": "stream",
          "text": [
            "[[1 2 3]\n",
            " [4 5 6]]\n"
          ]
        }
      ]
    },
    {
      "cell_type": "code",
      "metadata": {
        "id": "c7325a2c",
        "outputId": "b1b07b20-5b0b-4132-9fd1-81affd64edef"
      },
      "source": [
        "b = np.array([7,8,9])\n",
        "print(b)"
      ],
      "id": "c7325a2c",
      "execution_count": null,
      "outputs": [
        {
          "name": "stdout",
          "output_type": "stream",
          "text": [
            "[7 8 9]\n"
          ]
        }
      ]
    },
    {
      "cell_type": "code",
      "metadata": {
        "id": "bd5da924",
        "outputId": "36ceaeb7-796d-4c31-a3d8-51a306edd968"
      },
      "source": [
        "c = np.array([[7,8,9]])\n",
        "print(c)"
      ],
      "id": "bd5da924",
      "execution_count": null,
      "outputs": [
        {
          "name": "stdout",
          "output_type": "stream",
          "text": [
            "[[7 8 9]]\n"
          ]
        }
      ]
    },
    {
      "cell_type": "code",
      "metadata": {
        "id": "df9f416f",
        "outputId": "373766cf-ff4e-4c59-e628-1064682b1c53"
      },
      "source": [
        "np.append(a,b, axis=0)"
      ],
      "id": "df9f416f",
      "execution_count": null,
      "outputs": [
        {
          "ename": "ValueError",
          "evalue": "all the input arrays must have same number of dimensions, but the array at index 0 has 2 dimension(s) and the array at index 1 has 1 dimension(s)",
          "output_type": "error",
          "traceback": [
            "\u001b[1;31m---------------------------------------------------------------------------\u001b[0m",
            "\u001b[1;31mValueError\u001b[0m                                Traceback (most recent call last)",
            "\u001b[1;32m<ipython-input-27-b9eb344211ed>\u001b[0m in \u001b[0;36m<module>\u001b[1;34m\u001b[0m\n\u001b[1;32m----> 1\u001b[1;33m \u001b[0mnp\u001b[0m\u001b[1;33m.\u001b[0m\u001b[0mappend\u001b[0m\u001b[1;33m(\u001b[0m\u001b[0ma\u001b[0m\u001b[1;33m,\u001b[0m\u001b[0mb\u001b[0m\u001b[1;33m,\u001b[0m \u001b[0maxis\u001b[0m\u001b[1;33m=\u001b[0m\u001b[1;36m0\u001b[0m\u001b[1;33m)\u001b[0m\u001b[1;33m\u001b[0m\u001b[1;33m\u001b[0m\u001b[0m\n\u001b[0m",
            "\u001b[1;32m<__array_function__ internals>\u001b[0m in \u001b[0;36mappend\u001b[1;34m(*args, **kwargs)\u001b[0m\n",
            "\u001b[1;32m~\\anaconda3\\lib\\site-packages\\numpy\\lib\\function_base.py\u001b[0m in \u001b[0;36mappend\u001b[1;34m(arr, values, axis)\u001b[0m\n\u001b[0;32m   4743\u001b[0m         \u001b[0mvalues\u001b[0m \u001b[1;33m=\u001b[0m \u001b[0mravel\u001b[0m\u001b[1;33m(\u001b[0m\u001b[0mvalues\u001b[0m\u001b[1;33m)\u001b[0m\u001b[1;33m\u001b[0m\u001b[1;33m\u001b[0m\u001b[0m\n\u001b[0;32m   4744\u001b[0m         \u001b[0maxis\u001b[0m \u001b[1;33m=\u001b[0m \u001b[0marr\u001b[0m\u001b[1;33m.\u001b[0m\u001b[0mndim\u001b[0m\u001b[1;33m-\u001b[0m\u001b[1;36m1\u001b[0m\u001b[1;33m\u001b[0m\u001b[1;33m\u001b[0m\u001b[0m\n\u001b[1;32m-> 4745\u001b[1;33m     \u001b[1;32mreturn\u001b[0m \u001b[0mconcatenate\u001b[0m\u001b[1;33m(\u001b[0m\u001b[1;33m(\u001b[0m\u001b[0marr\u001b[0m\u001b[1;33m,\u001b[0m \u001b[0mvalues\u001b[0m\u001b[1;33m)\u001b[0m\u001b[1;33m,\u001b[0m \u001b[0maxis\u001b[0m\u001b[1;33m=\u001b[0m\u001b[0maxis\u001b[0m\u001b[1;33m)\u001b[0m\u001b[1;33m\u001b[0m\u001b[1;33m\u001b[0m\u001b[0m\n\u001b[0m\u001b[0;32m   4746\u001b[0m \u001b[1;33m\u001b[0m\u001b[0m\n\u001b[0;32m   4747\u001b[0m \u001b[1;33m\u001b[0m\u001b[0m\n",
            "\u001b[1;32m<__array_function__ internals>\u001b[0m in \u001b[0;36mconcatenate\u001b[1;34m(*args, **kwargs)\u001b[0m\n",
            "\u001b[1;31mValueError\u001b[0m: all the input arrays must have same number of dimensions, but the array at index 0 has 2 dimension(s) and the array at index 1 has 1 dimension(s)"
          ]
        }
      ]
    },
    {
      "cell_type": "code",
      "metadata": {
        "id": "1f4a3c1d",
        "outputId": "2706a38b-5080-4ccc-bebc-208275f70851"
      },
      "source": [
        "np.append(a,c, axis=0)"
      ],
      "id": "1f4a3c1d",
      "execution_count": null,
      "outputs": [
        {
          "data": {
            "text/plain": [
              "array([[1, 2, 3],\n",
              "       [4, 5, 6],\n",
              "       [7, 8, 9]])"
            ]
          },
          "execution_count": 28,
          "metadata": {},
          "output_type": "execute_result"
        }
      ]
    },
    {
      "cell_type": "code",
      "metadata": {
        "id": "9034c8a5",
        "outputId": "af43f6b9-e91f-48b1-9b8e-f4ef46429f76"
      },
      "source": [
        "import numpy as np\n",
        "a = np.array([1,2,3])\n",
        "b = np.array([5,6])\n",
        "np.concatenate((a,b))"
      ],
      "id": "9034c8a5",
      "execution_count": null,
      "outputs": [
        {
          "data": {
            "text/plain": [
              "array([1, 2, 3, 5, 6])"
            ]
          },
          "execution_count": 36,
          "metadata": {},
          "output_type": "execute_result"
        }
      ]
    },
    {
      "cell_type": "code",
      "metadata": {
        "id": "74195f3c",
        "outputId": "5f7517bc-bfd6-410f-face-aa89fe60fb8e"
      },
      "source": [
        "np.r_[a,b]"
      ],
      "id": "74195f3c",
      "execution_count": null,
      "outputs": [
        {
          "data": {
            "text/plain": [
              "array([1, 2, 3, 5, 6])"
            ]
          },
          "execution_count": 37,
          "metadata": {},
          "output_type": "execute_result"
        }
      ]
    },
    {
      "cell_type": "code",
      "metadata": {
        "id": "d2a94578",
        "outputId": "a640f8f8-5c53-4a72-b5cd-b2baa3305858"
      },
      "source": [
        "a = np.array([1, 2,3])\n",
        "b = np.array([5, 6,7])\n",
        "np.stack([a,b]).reshape(-1)"
      ],
      "id": "d2a94578",
      "execution_count": null,
      "outputs": [
        {
          "data": {
            "text/plain": [
              "array([1, 2, 3, 5, 6, 7])"
            ]
          },
          "execution_count": 45,
          "metadata": {},
          "output_type": "execute_result"
        }
      ]
    },
    {
      "cell_type": "code",
      "metadata": {
        "id": "92731993",
        "outputId": "60a58b06-5b2e-466d-b25d-06118104de1a"
      },
      "source": [
        "a = np.array([1, 2,3])\n",
        "b = np.array([5, 6,7])\n",
        "np.stack([a,b])"
      ],
      "id": "92731993",
      "execution_count": null,
      "outputs": [
        {
          "data": {
            "text/plain": [
              "array([[1, 2, 3],\n",
              "       [5, 6, 7]])"
            ]
          },
          "execution_count": 46,
          "metadata": {},
          "output_type": "execute_result"
        }
      ]
    },
    {
      "cell_type": "code",
      "metadata": {
        "id": "e3d49a13",
        "outputId": "6c63460d-b87f-4792-80c6-ced8ad3d9b94"
      },
      "source": [
        "print()"
      ],
      "id": "e3d49a13",
      "execution_count": null,
      "outputs": [
        {
          "name": "stdout",
          "output_type": "stream",
          "text": [
            "\n"
          ]
        }
      ]
    },
    {
      "cell_type": "code",
      "metadata": {
        "id": "22f9070a",
        "outputId": "e5e59307-4774-4a92-8cf6-2d87777246e5"
      },
      "source": [
        "a = np.array([[1,2,3],[11,22,33],[111,222,333],[1111,2222,3333]])\n",
        "\n",
        "b = np.array([[7,8,9],[77,88,99],[777,888,999],[7777,8888,9999]])\n",
        "\n",
        "print(\"\\nhstack =\\n\", np.hstack((a,b)))\n",
        "\n",
        "print(\"\\n======next print======\")\n",
        "\n",
        "print(\"\\nvstack =\\n\", np.vstack((a,b)))"
      ],
      "id": "22f9070a",
      "execution_count": null,
      "outputs": [
        {
          "name": "stdout",
          "output_type": "stream",
          "text": [
            "\n",
            "hstack =\n",
            " [[   1    2    3    7    8    9]\n",
            " [  11   22   33   77   88   99]\n",
            " [ 111  222  333  777  888  999]\n",
            " [1111 2222 3333 7777 8888 9999]]\n",
            "\n",
            "======next print======\n",
            "\n",
            "vstack =\n",
            " [[   1    2    3]\n",
            " [  11   22   33]\n",
            " [ 111  222  333]\n",
            " [1111 2222 3333]\n",
            " [   7    8    9]\n",
            " [  77   88   99]\n",
            " [ 777  888  999]\n",
            " [7777 8888 9999]]\n"
          ]
        }
      ]
    },
    {
      "cell_type": "code",
      "metadata": {
        "id": "5dc5b6ed",
        "outputId": "1f925ece-c807-434c-a8d9-cce8fdac9afa"
      },
      "source": [
        "a = np.array([[1],[2],[3]])\n",
        "\n",
        "b = np.array([[8],[9],[10]])\n",
        "\n",
        "print(\"\\nhstack =\\n\", np.hstack((a,b)))\n",
        "\n",
        "print(\"\\n======next print======\")\n",
        "\n",
        "print(\"\\nvstack =\\n\", np.vstack((a,b)))"
      ],
      "id": "5dc5b6ed",
      "execution_count": null,
      "outputs": [
        {
          "name": "stdout",
          "output_type": "stream",
          "text": [
            "\n",
            "hstack =\n",
            " [[ 1  8]\n",
            " [ 2  9]\n",
            " [ 3 10]]\n",
            "\n",
            "======next print======\n",
            "\n",
            "vstack =\n",
            " [[ 1]\n",
            " [ 2]\n",
            " [ 3]\n",
            " [ 8]\n",
            " [ 9]\n",
            " [10]]\n"
          ]
        }
      ]
    },
    {
      "cell_type": "code",
      "metadata": {
        "id": "919b13f6",
        "outputId": "837f65a8-060a-4661-fb52-17b7404e1703"
      },
      "source": [
        "a = np.array([[1,2],[3,4]])\n",
        "\n",
        "b = np.array([[5,6],[7,8]])\n",
        "\n",
        "print(\"\\nhstack =\\n\", np.hstack((a,b)))\n",
        "\n",
        "print(\"\\n======next print======\")\n",
        "\n",
        "print(\"\\nvstack =\\n\", np.vstack((a,b)))"
      ],
      "id": "919b13f6",
      "execution_count": null,
      "outputs": [
        {
          "name": "stdout",
          "output_type": "stream",
          "text": [
            "\n",
            "hstack =\n",
            " [[1 2 5 6]\n",
            " [3 4 7 8]]\n",
            "\n",
            "======next print======\n",
            "\n",
            "vstack =\n",
            " [[1 2]\n",
            " [3 4]\n",
            " [5 6]\n",
            " [7 8]]\n"
          ]
        }
      ]
    },
    {
      "cell_type": "code",
      "metadata": {
        "id": "d3613750",
        "outputId": "a86a8e7b-ca7c-4901-a99b-75558cb069fc"
      },
      "source": [
        "import numpy as np\n",
        "a = np.array([[1, 2], [3, 4]])\n",
        "b = np.array([[5, 6]])\n",
        "np.concatenate((a, b), axis=0)"
      ],
      "id": "d3613750",
      "execution_count": null,
      "outputs": [
        {
          "data": {
            "text/plain": [
              "array([[1, 2],\n",
              "       [3, 4],\n",
              "       [5, 6]])"
            ]
          },
          "execution_count": 54,
          "metadata": {},
          "output_type": "execute_result"
        }
      ]
    },
    {
      "cell_type": "code",
      "metadata": {
        "id": "2b19fc52",
        "outputId": "5c91b95f-d73b-40c2-d03a-71e59707b605"
      },
      "source": [
        "np.vstack((a,b))"
      ],
      "id": "2b19fc52",
      "execution_count": null,
      "outputs": [
        {
          "data": {
            "text/plain": [
              "array([[1, 2],\n",
              "       [3, 4],\n",
              "       [5, 6]])"
            ]
          },
          "execution_count": 55,
          "metadata": {},
          "output_type": "execute_result"
        }
      ]
    },
    {
      "cell_type": "code",
      "metadata": {
        "id": "2d18f152",
        "outputId": "c4d594e1-73a0-45fc-ab7b-4a59185d7300"
      },
      "source": [
        "np.concatenate((a, b), axis=1)"
      ],
      "id": "2d18f152",
      "execution_count": null,
      "outputs": [
        {
          "ename": "ValueError",
          "evalue": "all the input array dimensions for the concatenation axis must match exactly, but along dimension 0, the array at index 0 has size 2 and the array at index 1 has size 1",
          "output_type": "error",
          "traceback": [
            "\u001b[1;31m---------------------------------------------------------------------------\u001b[0m",
            "\u001b[1;31mValueError\u001b[0m                                Traceback (most recent call last)",
            "\u001b[1;32m<ipython-input-56-ab47451b2341>\u001b[0m in \u001b[0;36m<module>\u001b[1;34m\u001b[0m\n\u001b[1;32m----> 1\u001b[1;33m \u001b[0mnp\u001b[0m\u001b[1;33m.\u001b[0m\u001b[0mconcatenate\u001b[0m\u001b[1;33m(\u001b[0m\u001b[1;33m(\u001b[0m\u001b[0ma\u001b[0m\u001b[1;33m,\u001b[0m \u001b[0mb\u001b[0m\u001b[1;33m)\u001b[0m\u001b[1;33m,\u001b[0m \u001b[0maxis\u001b[0m\u001b[1;33m=\u001b[0m\u001b[1;36m1\u001b[0m\u001b[1;33m)\u001b[0m\u001b[1;33m\u001b[0m\u001b[1;33m\u001b[0m\u001b[0m\n\u001b[0m",
            "\u001b[1;32m<__array_function__ internals>\u001b[0m in \u001b[0;36mconcatenate\u001b[1;34m(*args, **kwargs)\u001b[0m\n",
            "\u001b[1;31mValueError\u001b[0m: all the input array dimensions for the concatenation axis must match exactly, but along dimension 0, the array at index 0 has size 2 and the array at index 1 has size 1"
          ]
        }
      ]
    },
    {
      "cell_type": "code",
      "metadata": {
        "id": "c1ccf1ad",
        "outputId": "8fc271ed-8c85-4d4f-cdfe-fe8a6903c52a"
      },
      "source": [
        "np.concatenate((a, b.T), axis=1)"
      ],
      "id": "c1ccf1ad",
      "execution_count": null,
      "outputs": [
        {
          "data": {
            "text/plain": [
              "array([[1, 2, 5],\n",
              "       [3, 4, 6]])"
            ]
          },
          "execution_count": 57,
          "metadata": {},
          "output_type": "execute_result"
        }
      ]
    },
    {
      "cell_type": "code",
      "metadata": {
        "id": "37576cda",
        "outputId": "09acc26a-3b96-4fc0-ed63-d04485328a95"
      },
      "source": [
        "import numpy as np\n",
        "a = np.array([[1, 2], [3, 4]])\n",
        "b = np.array([5, 6])\n",
        "bb= np.array([[5, 6],[7,8]])\n",
        "cc=b.T\n",
        "\n",
        "print(\"vstack=\",np.vstack((a,cc)))\n",
        "\n",
        "print(\"hstack=\",np.hstack((a,bb)))"
      ],
      "id": "37576cda",
      "execution_count": null,
      "outputs": [
        {
          "name": "stdout",
          "output_type": "stream",
          "text": [
            "vstack= [[1 2]\n",
            " [3 4]\n",
            " [5 6]]\n",
            "hstack= [[1 2 5 6]\n",
            " [3 4 7 8]]\n"
          ]
        }
      ]
    },
    {
      "cell_type": "code",
      "metadata": {
        "id": "85eeed9a",
        "outputId": "e92e072c-88a8-4100-ccad-f0c10376549b"
      },
      "source": [
        "a = np.array((1,2,3))\n",
        "b = np.array((7,8,9))\n",
        "print(a)\n",
        "print(b)\n",
        "\n",
        "print(\"vstack\\n\")\n",
        "print(np.vstack((a,b)))\n",
        "print(\"concatenate\\n\")\n",
        "print(np.concatenate([a.reshape(1,3),b.reshape(1,3)]))\n",
        "print(\"stack\\n\")\n",
        "print(np.stack((a,b),axis=1))\n",
        "print(\"concatenate\\n\")\n",
        "print(np.concatenate((a.reshape(1,3),b.reshape(1,3)),axis = 1))\n",
        "print(\"stack\\n\")\n",
        "print(np.stack((a,b),axis=0))\n",
        "print(\"concatenate\\n\")\n",
        "print(np.concatenate((a.reshape(1,3),b.reshape(1,3)),axis = 0))"
      ],
      "id": "85eeed9a",
      "execution_count": null,
      "outputs": [
        {
          "name": "stdout",
          "output_type": "stream",
          "text": [
            "[1 2 3]\n",
            "[7 8 9]\n",
            "vstack\n",
            "\n",
            "[[1 2 3]\n",
            " [7 8 9]]\n",
            "concatenate\n",
            "\n",
            "[[1 2 3]\n",
            " [7 8 9]]\n",
            "stack\n",
            "\n",
            "[[1 7]\n",
            " [2 8]\n",
            " [3 9]]\n",
            "concatenate\n",
            "\n",
            "[[1 2 3 7 8 9]]\n",
            "stack\n",
            "\n",
            "[[1 2 3]\n",
            " [7 8 9]]\n",
            "concatenate\n",
            "\n",
            "[[1 2 3]\n",
            " [7 8 9]]\n"
          ]
        }
      ]
    },
    {
      "cell_type": "code",
      "metadata": {
        "id": "b2db6c43"
      },
      "source": [
        ""
      ],
      "id": "b2db6c43",
      "execution_count": null,
      "outputs": []
    }
  ]
}