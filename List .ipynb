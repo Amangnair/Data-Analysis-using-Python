{
  "nbformat": 4,
  "nbformat_minor": 5,
  "metadata": {
    "kernelspec": {
      "display_name": "Python 3",
      "language": "python",
      "name": "python3"
    },
    "language_info": {
      "codemirror_mode": {
        "name": "ipython",
        "version": 3
      },
      "file_extension": ".py",
      "mimetype": "text/x-python",
      "name": "python",
      "nbconvert_exporter": "python",
      "pygments_lexer": "ipython3",
      "version": "3.8.8"
    },
    "colab": {
      "name": "List.ipynb",
      "provenance": [],
      "collapsed_sections": []
    }
  },
  "cells": [
    {
      "cell_type": "code",
      "metadata": {
        "id": "a16eb709",
        "outputId": "dd77c58b-35d6-423a-c32d-cf12fcf0516c"
      },
      "source": [
        "l1 = ['abc', 'def', 19, 20];\n",
        "l2 = [10, 20, 30, 40, 50, 60, 70];\n",
        "print (\"l1[0]: \", l1[2])\n",
        "print (\"l2[1:5]: \", l2[1:3])"
      ],
      "id": "a16eb709",
      "execution_count": null,
      "outputs": [
        {
          "name": "stdout",
          "output_type": "stream",
          "text": [
            "l1[0]:  19\n",
            "l2[1:5]:  [20, 30]\n"
          ]
        }
      ]
    },
    {
      "cell_type": "code",
      "metadata": {
        "id": "ba390b9a",
        "outputId": "9f03f3c3-7d04-4881-f28b-eaa54228da70"
      },
      "source": [
        "list = ['abc', 'def', 19, 20];\n",
        "print (\"Value available at index 2 : \")\n",
        "print (list[2])\n",
        "list[2] = 999999;\n",
        "print (\"New value available at index 2 : \")\n",
        "print (list[2])"
      ],
      "id": "ba390b9a",
      "execution_count": null,
      "outputs": [
        {
          "name": "stdout",
          "output_type": "stream",
          "text": [
            "Value available at index 2 : \n",
            "19\n",
            "New value available at index 2 : \n",
            "999999\n"
          ]
        }
      ]
    },
    {
      "cell_type": "code",
      "metadata": {
        "id": "6ec3d58a",
        "outputId": "1d9f0766-1b76-4da4-983d-25f1ceb57a22"
      },
      "source": [
        "list1 = ['abc', 'def', 19, 20];\n",
        "print (list1)\n",
        "del (list1[2]);\n",
        "print (\"After deleting value at index 2 : \",list1)"
      ],
      "id": "6ec3d58a",
      "execution_count": null,
      "outputs": [
        {
          "name": "stdout",
          "output_type": "stream",
          "text": [
            "['abc', 'def', 19, 20]\n",
            "After deleting value at index 2 :  ['abc', 'def', 20]\n"
          ]
        }
      ]
    },
    {
      "cell_type": "code",
      "metadata": {
        "id": "3ccf5446",
        "outputId": "51e44ff4-9e30-438a-873d-4cd91e841c68"
      },
      "source": [
        "list1, list2 = [123, 'abc', 'rst'], [456, 'xyz']\n",
        "print (\"First list length : \", len(list1))\n",
        "print (\"Second list length : \", len(list2))"
      ],
      "id": "3ccf5446",
      "execution_count": null,
      "outputs": [
        {
          "name": "stdout",
          "output_type": "stream",
          "text": [
            "First list length :  3\n",
            "Second list length :  2\n"
          ]
        }
      ]
    },
    {
      "cell_type": "code",
      "metadata": {
        "id": "925a2fcc",
        "outputId": "ad963304-f43e-466f-edad-0e4154a72291"
      },
      "source": [
        "aList = [123, 'AB', 'CD', 'GHI'];\n",
        "aList.append(2021);\n",
        "print (\"Updated List : \", aList)"
      ],
      "id": "925a2fcc",
      "execution_count": null,
      "outputs": [
        {
          "name": "stdout",
          "output_type": "stream",
          "text": [
            "Updated List :  [123, 'AB', 'CD', 'GHI', 2021]\n"
          ]
        }
      ]
    },
    {
      "cell_type": "code",
      "metadata": {
        "id": "adda2a18",
        "outputId": "266bd122-a936-418d-aa0f-2b2437c66d1d"
      },
      "source": [
        "aList = [123, 'rz', 'rz', 'lkm', 123];\n",
        "print (\"Count for rz : \", aList.count('rz'))\n",
        "print (\"Count for al : \", aList.count('al'))\n",
        "print (\"Count for 123 : \", aList.count(123))"
      ],
      "id": "adda2a18",
      "execution_count": null,
      "outputs": [
        {
          "name": "stdout",
          "output_type": "stream",
          "text": [
            "Count for rz :  2\n",
            "Count for al :  0\n",
            "Count for 123 :  2\n"
          ]
        }
      ]
    },
    {
      "cell_type": "code",
      "metadata": {
        "id": "fd2b4e87",
        "outputId": "3566ccd9-5dd5-4b7d-fb54-e705aec15a7b"
      },
      "source": [
        "l1 = [123, 'rz', 'rz', 'lkm', 123];\n",
        "l2 = [2021,'qwe'];\n",
        "l1.extend(l2)\n",
        "print (\"Extended List : \", l1)"
      ],
      "id": "fd2b4e87",
      "execution_count": null,
      "outputs": [
        {
          "name": "stdout",
          "output_type": "stream",
          "text": [
            "Extended List :  [123, 'rz', 'rz', 'lkm', 123, 2021, 'qwe']\n"
          ]
        }
      ]
    },
    {
      "cell_type": "code",
      "metadata": {
        "id": "ce3eff72",
        "outputId": "6e8bacc9-6cf6-4cb3-aaee-812e932a85c8"
      },
      "source": [
        "l1 = [123, 'rz', 'rz', 'lkm', 123];\n",
        "print (\"Index for rz : \", l1.index( 'rz' ) )\n",
        "print (\"Index for 123 : \", l1.index(123) )"
      ],
      "id": "ce3eff72",
      "execution_count": null,
      "outputs": [
        {
          "name": "stdout",
          "output_type": "stream",
          "text": [
            "Index for rz :  1\n",
            "Index for 123 :  0\n"
          ]
        }
      ]
    },
    {
      "cell_type": "code",
      "metadata": {
        "id": "9280e780",
        "outputId": "10e66a9a-9682-4473-b680-a8a86612a591"
      },
      "source": [
        "aList = [123, 'xyz', 'def', 'abc']\n",
        "aList.insert( 5, 999)\n",
        "print (\"Final List : \", aList)"
      ],
      "id": "9280e780",
      "execution_count": null,
      "outputs": [
        {
          "name": "stdout",
          "output_type": "stream",
          "text": [
            "Final List :  [123, 'xyz', 'def', 'abc', 999]\n"
          ]
        }
      ]
    },
    {
      "cell_type": "code",
      "metadata": {
        "id": "badb489a",
        "outputId": "b5f54bee-141b-4b93-b7c7-78fca70c34da"
      },
      "source": [
        "aList = ['abc', 'def', 'ghi', 123];\n",
        "\n",
        "print(aList)\n",
        "\n",
        "print (\"List after popping last element : \", aList.pop())\n",
        "\n",
        "print(aList)\n",
        "\n",
        "print (\"List after popping element from mentioned index: \", aList.pop(2))\n",
        "\n",
        "print(aList)\n",
        "\n",
        "aList.insert(3, 2)\n",
        "\n",
        "print(aList)"
      ],
      "id": "badb489a",
      "execution_count": null,
      "outputs": [
        {
          "name": "stdout",
          "output_type": "stream",
          "text": [
            "['abc', 'def', 'ghi', 123]\n",
            "List after popping last element :  123\n",
            "['abc', 'def', 'ghi']\n",
            "List after popping element from mentioned index:  ghi\n",
            "['abc', 'def']\n",
            "['abc', 'def', 2]\n"
          ]
        }
      ]
    },
    {
      "cell_type": "code",
      "metadata": {
        "id": "1787188d",
        "outputId": "67c4aef7-4c89-403a-ca97-9e745b0ba862"
      },
      "source": [
        "aList = [123, 'xyz', 'def', 'abc', 'xyz'];\n",
        "aList.remove('abc');\n",
        "print (\"List : \", aList)\n",
        "aList.remove('def');\n",
        "print (\"List : \", aList)"
      ],
      "id": "1787188d",
      "execution_count": null,
      "outputs": [
        {
          "name": "stdout",
          "output_type": "stream",
          "text": [
            "List :  [123, 'xyz', 'def', 'xyz']\n",
            "List :  [123, 'xyz', 'xyz']\n"
          ]
        }
      ]
    },
    {
      "cell_type": "code",
      "metadata": {
        "id": "b2c17fb5",
        "outputId": "ee8c989d-1c0a-4c79-94c4-a21561c6ede5"
      },
      "source": [
        "aList = ['abhi', 'aayush', 'abdur', 'adarsh', 'ali'];\n",
        "aList.reverse();\n",
        "print (\"List : \", aList)"
      ],
      "id": "b2c17fb5",
      "execution_count": null,
      "outputs": [
        {
          "name": "stdout",
          "output_type": "stream",
          "text": [
            "List :  ['ali', 'adarsh', 'abdur', 'aayush', 'abhi']\n"
          ]
        }
      ]
    },
    {
      "cell_type": "code",
      "metadata": {
        "id": "2ef2db47",
        "outputId": "2f203fba-ca6c-4146-aaf0-79036e44bd7c"
      },
      "source": [
        "aList = ['nisha', 'shivam', 'karthik', 'akhil', 'pavan'];\n",
        "aList.sort();\n",
        "print (\"List : \", aList)"
      ],
      "id": "2ef2db47",
      "execution_count": null,
      "outputs": [
        {
          "name": "stdout",
          "output_type": "stream",
          "text": [
            "List :  ['akhil', 'karthik', 'nisha', 'pavan', 'shivam']\n"
          ]
        }
      ]
    },
    {
      "cell_type": "code",
      "metadata": {
        "id": "bfa58dfa",
        "outputId": "ed9729c6-a277-441a-a161-84936cfd2369"
      },
      "source": [
        "aList = [123, 'x', 783, 'abc', 'z'];\n",
        "aList.sort();\n",
        "print (\"List : \", aList)"
      ],
      "id": "bfa58dfa",
      "execution_count": null,
      "outputs": [
        {
          "ename": "TypeError",
          "evalue": "'<' not supported between instances of 'str' and 'int'",
          "output_type": "error",
          "traceback": [
            "\u001b[1;31m---------------------------------------------------------------------------\u001b[0m",
            "\u001b[1;31mTypeError\u001b[0m                                 Traceback (most recent call last)",
            "\u001b[1;32m<ipython-input-24-3c3b9c4354e9>\u001b[0m in \u001b[0;36m<module>\u001b[1;34m\u001b[0m\n\u001b[0;32m      1\u001b[0m \u001b[0maList\u001b[0m \u001b[1;33m=\u001b[0m \u001b[1;33m[\u001b[0m\u001b[1;36m123\u001b[0m\u001b[1;33m,\u001b[0m \u001b[1;34m'x'\u001b[0m\u001b[1;33m,\u001b[0m \u001b[1;36m783\u001b[0m\u001b[1;33m,\u001b[0m \u001b[1;34m'abc'\u001b[0m\u001b[1;33m,\u001b[0m \u001b[1;34m'z'\u001b[0m\u001b[1;33m]\u001b[0m\u001b[1;33m;\u001b[0m\u001b[1;33m\u001b[0m\u001b[1;33m\u001b[0m\u001b[0m\n\u001b[1;32m----> 2\u001b[1;33m \u001b[0maList\u001b[0m\u001b[1;33m.\u001b[0m\u001b[0msort\u001b[0m\u001b[1;33m(\u001b[0m\u001b[1;33m)\u001b[0m\u001b[1;33m;\u001b[0m\u001b[1;33m\u001b[0m\u001b[1;33m\u001b[0m\u001b[0m\n\u001b[0m\u001b[0;32m      3\u001b[0m \u001b[0mprint\u001b[0m \u001b[1;33m(\u001b[0m\u001b[1;34m\"List : \"\u001b[0m\u001b[1;33m,\u001b[0m \u001b[0maList\u001b[0m\u001b[1;33m)\u001b[0m\u001b[1;33m\u001b[0m\u001b[1;33m\u001b[0m\u001b[0m\n",
            "\u001b[1;31mTypeError\u001b[0m: '<' not supported between instances of 'str' and 'int'"
          ]
        }
      ]
    },
    {
      "cell_type": "code",
      "metadata": {
        "id": "8a0c479f"
      },
      "source": [
        ""
      ],
      "id": "8a0c479f",
      "execution_count": null,
      "outputs": []
    }
  ]
}