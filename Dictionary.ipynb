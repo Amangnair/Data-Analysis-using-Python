{
 "cells": [
  {
   "cell_type": "code",
   "execution_count": 1,
   "id": "dbc54405",
   "metadata": {},
   "outputs": [
    {
     "name": "stdout",
     "output_type": "stream",
     "text": [
      "Aman\n",
      "B.Tech\n"
     ]
    }
   ],
   "source": [
    "dict={'name':'Aman','designation':'abc','qual':'B.Tech','university':'CMR'}\n",
    "print(dict['name'])\n",
    "print(dict['qual'])"
   ]
  },
  {
   "cell_type": "code",
   "execution_count": 2,
   "id": "50b0b8ac",
   "metadata": {},
   "outputs": [
    {
     "name": "stdout",
     "output_type": "stream",
     "text": [
      "Nair\n",
      "7A\n",
      "{'name': 'Nair', 'designation': 'abc', 'qual': 'B.Tech', 'university': 'CMR', 'class': '7A'}\n"
     ]
    }
   ],
   "source": [
    "dict={'name':'Aman','designation':'abc','qual':'B.Tech','university':'CMR'}\n",
    "dict['name']='Nair'\n",
    "print(dict['name'])\n",
    "dict['class']='7A'\n",
    "print(dict['class'])\n",
    "print(dict)"
   ]
  },
  {
   "cell_type": "code",
   "execution_count": 3,
   "id": "3c2077ec",
   "metadata": {},
   "outputs": [
    {
     "name": "stdout",
     "output_type": "stream",
     "text": [
      "{'name': 'Aman', 'qual': 'B.Tech', 'university': 'CMR'}\n",
      "{}\n"
     ]
    }
   ],
   "source": [
    "dict={'name':'Aman','designation':'abc','qual':'B.Tech','university':'CMR'}\n",
    "del dict['designation']\n",
    "print(dict)\n",
    "dict.clear()\n",
    "print(dict)"
   ]
  },
  {
   "cell_type": "code",
   "execution_count": 4,
   "id": "6a1b3c19",
   "metadata": {},
   "outputs": [
    {
     "name": "stdout",
     "output_type": "stream",
     "text": [
      "Nair\n",
      "4\n",
      "3\n"
     ]
    }
   ],
   "source": [
    "dict={'name':'Aman','designation':'abc','qual':'B.Tech','university':'CMR','name':'Nair'}\n",
    "print(dict['name'])\n",
    "print(len(dict))\n",
    "del dict['designation']\n",
    "print(len(dict))\n"
   ]
  },
  {
   "cell_type": "code",
   "execution_count": 5,
   "id": "2a9c508e",
   "metadata": {},
   "outputs": [
    {
     "name": "stdout",
     "output_type": "stream",
     "text": [
      "dict_values(['Nair', 'abc', 'B.Tech', 'CMR'])\n",
      "dict_items([('name', 'Nair'), ('designation', 'abc'), ('qual', 'B.Tech'), ('university', 'CMR')])\n",
      "dict_keys(['name', 'designation', 'qual', 'university'])\n"
     ]
    }
   ],
   "source": [
    "dict={'name':'Aman','designation':'abc','qual':'B.Tech','university':'CMR','name':'Nair'}\n",
    "print(dict.values())\n",
    "print(dict.items())\n",
    "print(dict.keys())"
   ]
  },
  {
   "cell_type": "code",
   "execution_count": 6,
   "id": "19b9515a",
   "metadata": {},
   "outputs": [
    {
     "name": "stdout",
     "output_type": "stream",
     "text": [
      "nothing\n"
     ]
    }
   ],
   "source": [
    "dict={'name':'Aman','designation':'abc','qual':'B.Tech','university':'CMR','name':'Nair'}\n",
    "print(dict.get('edu',\"nothing\"))"
   ]
  },
  {
   "cell_type": "code",
   "execution_count": 7,
   "id": "97e82b64",
   "metadata": {},
   "outputs": [
    {
     "name": "stdout",
     "output_type": "stream",
     "text": [
      "trewq\n",
      "Nair\n",
      "4\n"
     ]
    }
   ],
   "source": [
    "dict={'name':'Aman','designation':'abc','qual':'B.Tech','university':'CMR','name':'Nair'}\n",
    "dict2=dict.copy()\n",
    "dict['name']='trewq'\n",
    "print(dict['name'])\n",
    "print(dict2['name'])\n",
    "print(len(dict2))"
   ]
  },
  {
   "cell_type": "code",
   "execution_count": 8,
   "id": "2fb25cf5",
   "metadata": {},
   "outputs": [
    {
     "name": "stdout",
     "output_type": "stream",
     "text": [
      "{'name': 'Nair', 'designation': 'abc', 'qual': 'B.Tech', 'university': 'CMR'}\n",
      "{'edu': 'btech-mtech', 'students': '7sem'}\n",
      "{'name': 'Nair', 'designation': 'abc', 'qual': 'B.Tech', 'university': 'CMR', 'edu': 'btech-mtech', 'students': '7sem'}\n"
     ]
    }
   ],
   "source": [
    "dict={'name':'Aman','designation':'abc','qual':'B.Tech','university':'CMR','name':'Nair'}\n",
    "dict2={'edu':'btech-mtech','students':'7sem'}\n",
    "print(dict)\n",
    "print(dict2)\n",
    "dict.update(dict2)\n",
    "print(dict)"
   ]
  },
  {
   "cell_type": "code",
   "execution_count": null,
   "id": "c457b8b8",
   "metadata": {},
   "outputs": [],
   "source": []
  }
 ],
 "metadata": {
  "kernelspec": {
   "display_name": "Python 3",
   "language": "python",
   "name": "python3"
  },
  "language_info": {
   "codemirror_mode": {
    "name": "ipython",
    "version": 3
   },
   "file_extension": ".py",
   "mimetype": "text/x-python",
   "name": "python",
   "nbconvert_exporter": "python",
   "pygments_lexer": "ipython3",
   "version": "3.8.8"
  }
 },
 "nbformat": 4,
 "nbformat_minor": 5
}
