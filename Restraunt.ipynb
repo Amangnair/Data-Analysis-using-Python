{
 "cells": [
  {
   "cell_type": "code",
   "execution_count": 1,
   "id": "84172bb8",
   "metadata": {},
   "outputs": [
    {
     "name": "stdout",
     "output_type": "stream",
     "text": [
      "Welcome to No.1 Restraunt\n",
      " Enter 1 for Vegetarian food\n",
      " 2 for Non-Veg Food\n",
      "2\n",
      "**Non-Veg**\n",
      " What do you like to have\n",
      "1.Chicken Biryani\tRs.180/-\n",
      "2.Mutton Biryani\tRs.210/-\n",
      "3.Kabab\tRs.100/-\n",
      "4.Grilled chicken\tRs.240/-\n",
      "\n",
      "3\n",
      "How many quantity do u need?\n",
      "4\n",
      "THANK YOU FOR ORDERING!!!\n"
     ]
    }
   ],
   "source": [
    "#Restraunt\n",
    "print(\"Welcome to No.1 Restraunt\\n Enter 1 for Vegetarian food\\n 2 for Non-Veg Food\")\n",
    "fr=int(input())\n",
    "if(fr==1):\n",
    "    print(\"Enter 1 for North Indian\\n 2 for South Indian\")\n",
    "    op=int(input())\n",
    "    if(op==1):\n",
    "        print(\"**North Indian food**\\n What do you like to have\\n1.North Indian Meals\\tRs.180/-\\n2.Paratha\\tRs.15/-\\n3.Roti\\tRs.10/-\\n4. Paneer Butter Masala\\tRs.120/-\\n\")\n",
    "        qw=int(input())\n",
    "        print(\"How many quantity do u need?\")\n",
    "        we=int(input())\n",
    "        print(\"THANK YOU FOR ORDERING!!!\")\n",
    "    elif(op==2):\n",
    "        print(\"**South Indian food**\\n What do you like to have\\n1.South Indian Meals\\tRs.110/-\\n2.Masala Dosa\\tRs.45/-\\n3.Idli\\tRs.10/-\\n4. Vada\\tRs.20/-\\n\")\n",
    "        po=int(input())\n",
    "        print(\"How many quantity do u need?\")\n",
    "        tr=int(input())\n",
    "        print(\"THANK YOU FOR ORDERING!!!\")\n",
    "elif(fr==2):\n",
    "    print(\"**Non-Veg**\\n What do you like to have\\n1.Chicken Biryani\\tRs.180/-\\n2.Mutton Biryani\\tRs.210/-\\n3.Kabab\\tRs.100/-\\n4.Grilled chicken\\tRs.240/-\\n\")\n",
    "    zx=int(input())\n",
    "    print(\"How many quantity do u need?\")\n",
    "    xz=int(input())\n",
    "    print(\"THANK YOU FOR ORDERING!!!\")"
   ]
  },
  {
   "cell_type": "code",
   "execution_count": null,
   "id": "d0364a77",
   "metadata": {},
   "outputs": [],
   "source": []
  }
 ],
 "metadata": {
  "kernelspec": {
   "display_name": "Python 3",
   "language": "python",
   "name": "python3"
  },
  "language_info": {
   "codemirror_mode": {
    "name": "ipython",
    "version": 3
   },
   "file_extension": ".py",
   "mimetype": "text/x-python",
   "name": "python",
   "nbconvert_exporter": "python",
   "pygments_lexer": "ipython3",
   "version": "3.8.8"
  }
 },
 "nbformat": 4,
 "nbformat_minor": 5
}
