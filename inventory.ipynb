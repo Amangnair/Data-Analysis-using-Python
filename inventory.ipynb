{
 "cells": [
  {
   "cell_type": "code",
   "execution_count": 1,
   "id": "d19558f8",
   "metadata": {},
   "outputs": [
    {
     "name": "stdout",
     "output_type": "stream",
     "text": [
      "\n",
      "Inventory is\n",
      "\n",
      "Name          \tPrice\tQuantity\tManufacturer\n",
      "Mouse         \t500  \t20      \tHP          \n",
      "Keyboard      \t1000 \t15      \tLogitech    \n",
      "Monitor       \t2500 \t10      \tAsus        \n",
      "MS Office 2021\t1000 \t25      \tMicrosoft   \n",
      "\n",
      "p : purchase\n",
      "c : count\n",
      "e : exit\n",
      "p\n",
      "Enter the index (1=Mouse, 2=Keyboard..) 2\n",
      "How many units you want to buy? 4\n",
      "Purchase successful\n",
      "\n",
      "Inventory is\n",
      "\n",
      "Name          \tPrice\tQuantity\tManufacturer\n",
      "Mouse         \t500  \t20      \tHP          \n",
      "Keyboard      \t1000 \t11      \tLogitech    \n",
      "Monitor       \t2500 \t10      \tAsus        \n",
      "MS Office 2021\t1000 \t25      \tMicrosoft   \n",
      "\n",
      "p : purchase\n",
      "c : count\n",
      "e : exit\n",
      "e\n",
      "\n",
      "Your total bill amount is  4000 \n",
      "Thank you for doing business with us.\n"
     ]
    }
   ],
   "source": [
    "def show():\n",
    "  s = [[str(e) for e in row] for row in h]\n",
    "  lens = [max(map(len, col)) for col in zip(*s)]\n",
    "  fmt = '\\t'.join('{{:{}}}'.format(x) for x in lens)\n",
    "  table = [fmt.format(*row) for row in s]\n",
    "  print('\\n'.join(table))\n",
    "  \n",
    "def checkInven():\n",
    "  for i in range(1,len(h)):\n",
    "    if(h[i][2]<=5):\n",
    "      print(\"\\nStock replinished\")\n",
    "      h[i][2]=20\n",
    "\n",
    "h=[['Name','Price','Quantity', 'Manufacturer'],['Mouse',500,20,'HP'],['Keyboard',1000,15,'Logitech'],['Monitor',2500,10,'Asus'],['MS Office 2021',1000,25,'Microsoft']]\n",
    "n='a'\n",
    "cost=0\n",
    "while(n!='e'):\n",
    "  checkInven()\n",
    "  print(\"\\nInventory is\\n\")\n",
    "  show()\n",
    "  n=input(\"\\np : purchase\\nc : count\\ne : exit\\n\")\n",
    "  if(n=='p'):\n",
    "    a=int(input(\"Enter the index (1=Mouse, 2=Keyboard..) \"))\n",
    "    if(a>4):\n",
    "      print(\"Incorrect option. Try again.\")\n",
    "      continue\n",
    "    count=int(input(\"How many units you want to buy? \"))\n",
    "    if(h[a][2]<count):\n",
    "      print(\"Sorry.. not enough stock\")\n",
    "    else:\n",
    "      h[a][2]-=count\n",
    "      print(\"Purchase successful\")\n",
    "      cost+=h[a][1]*count\n",
    "  elif(n=='c'):\n",
    "    b=int(input(\"Enter the index (1=Mouse, 2=Keyboard..) \"))\n",
    "    if(b>4):\n",
    "      print(\"Incorrect option. Try again.\")\n",
    "      continue\n",
    "    print(\"Stock left is \",h[b][2])\n",
    "  elif(n=='e'):\n",
    "    pass\n",
    "  else:\n",
    "    print(\"Incorrect option. Try again.\")\n",
    "print(\"\\nYour total bill amount is \",cost,\"\\nThank you for doing business with us.\")"
   ]
  },
  {
   "cell_type": "code",
   "execution_count": null,
   "id": "aeae8e87",
   "metadata": {},
   "outputs": [],
   "source": []
  }
 ],
 "metadata": {
  "kernelspec": {
   "display_name": "Python 3",
   "language": "python",
   "name": "python3"
  },
  "language_info": {
   "codemirror_mode": {
    "name": "ipython",
    "version": 3
   },
   "file_extension": ".py",
   "mimetype": "text/x-python",
   "name": "python",
   "nbconvert_exporter": "python",
   "pygments_lexer": "ipython3",
   "version": "3.8.8"
  }
 },
 "nbformat": 4,
 "nbformat_minor": 5
}
